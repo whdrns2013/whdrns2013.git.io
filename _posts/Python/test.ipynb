{
 "cells": [
  {
   "cell_type": "code",
   "execution_count": 1,
   "metadata": {},
   "outputs": [],
   "source": [
    "text = '''\n",
    "꽃\n",
    "김춘수\n",
    "\n",
    "내가 그의 이름을 불러주기 전에는\n",
    "그는 다만\n",
    "하나의 몸짓에 지나지 않았다.\n",
    "\n",
    "내가 그의 이름을 불러주었을 때,\n",
    "그는 나에게로 와서\n",
    "꽃이 되었다.\n",
    "\n",
    "내가 그의 이름을 불러준 것처럼\n",
    "나의 이 빛깔과 향기에 알맞는\n",
    "누가 나의 이름을 불러다오.\n",
    "그에게로 가서 나도\n",
    "그의 꽃이 되고 싶다.\n",
    "\n",
    "우리들은 모두\n",
    "무엇이 되고 싶다.\n",
    "너는 나에게 나는 너에게\n",
    "잊혀지지 않는 하나의 눈짓이 되고 싶다.\n",
    "'''"
   ]
  },
  {
   "cell_type": "code",
   "execution_count": 9,
   "metadata": {},
   "outputs": [
    {
     "data": {
      "text/plain": [
       "34"
      ]
     },
     "execution_count": 9,
     "metadata": {},
     "output_type": "execute_result"
    }
   ],
   "source": [
    "text.find(\"나\")"
   ]
  },
  {
   "cell_type": "code",
   "execution_count": 8,
   "metadata": {},
   "outputs": [
    {
     "name": "stdout",
     "output_type": "stream",
     "text": [
      "-1\n",
      "-1\n",
      "-1\n",
      "-1\n",
      "-1\n",
      "-1\n",
      "1\n",
      "-1\n",
      "-1\n",
      "3\n",
      "-1\n",
      "-1\n",
      "-1\n",
      "0\n",
      "3\n",
      "8\n",
      "-1\n",
      "-1\n",
      "-1\n",
      "-1\n",
      "3\n",
      "9\n",
      "-1\n"
     ]
    }
   ],
   "source": [
    "text_list = text.split('\\n')\n",
    "\n",
    "for sen in text_list:\n",
    "    print(sen.find(\"나\"))"
   ]
  },
  {
   "cell_type": "code",
   "execution_count": 3,
   "metadata": {},
   "outputs": [],
   "source": [
    "import re"
   ]
  },
  {
   "cell_type": "code",
   "execution_count": 6,
   "metadata": {},
   "outputs": [
    {
     "data": {
      "text/plain": [
       "['내가', '내가', '내가']"
      ]
     },
     "execution_count": 6,
     "metadata": {},
     "output_type": "execute_result"
    }
   ],
   "source": [
    "re.findall(\"내가\", text)"
   ]
  },
  {
   "cell_type": "code",
   "execution_count": null,
   "metadata": {},
   "outputs": [],
   "source": []
  }
 ],
 "metadata": {
  "kernelspec": {
   "display_name": "Python 3",
   "language": "python",
   "name": "python3"
  },
  "language_info": {
   "codemirror_mode": {
    "name": "ipython",
    "version": 3
   },
   "file_extension": ".py",
   "mimetype": "text/x-python",
   "name": "python",
   "nbconvert_exporter": "python",
   "pygments_lexer": "ipython3",
   "version": "3.10.0"
  },
  "orig_nbformat": 4
 },
 "nbformat": 4,
 "nbformat_minor": 2
}
